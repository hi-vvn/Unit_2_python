{
  "nbformat": 4,
  "nbformat_minor": 0,
  "metadata": {
    "colab": {
      "name": "Python Project: Odd or Even",
      "provenance": [],
      "authorship_tag": "ABX9TyPFPkOblbtI2W3IIrp/s0n6",
      "include_colab_link": true
    },
    "kernelspec": {
      "name": "python3",
      "display_name": "Python 3"
    }
  },
  "cells": [
    {
      "cell_type": "markdown",
      "metadata": {
        "id": "view-in-github",
        "colab_type": "text"
      },
      "source": [
        "<a href=\"https://colab.research.google.com/github/hi-vvn/Unit_2_python/blob/main/Python_Project_Odd_or_Even.ipynb\" target=\"_parent\"><img src=\"https://colab.research.google.com/assets/colab-badge.svg\" alt=\"Open In Colab\"/></a>"
      ]
    },
    {
      "cell_type": "code",
      "metadata": {
        "colab": {
          "base_uri": "https://localhost:8080/"
        },
        "id": "Gv-KdUQv4XWQ",
        "outputId": "47feeef0-1f9a-4961-ccf9-4ea6a078b782"
      },
      "source": [
        "number = int(input('Enter a number:'))\n",
        "\n",
        "if number % 4 == 0:\n",
        "  print('The number you input is a multiple of 4')\n",
        "\n",
        "elif number % 2 == 0:\n",
        "  print('The number you input is even')\n",
        "\n",
        "else:\n",
        " print('The number you input is odd')\n",
        "\n",
        "number = int(input('Enter the first number: '))\n",
        "number_2 = int(input('Enter the second number: '))\n",
        "\n",
        "if number % number_2 == 0:\n",
        "  print(\"The first number can be divided by the second number\")\n",
        "else:\n",
        "  print(\"The first number can not be divided by the second number\")\n"
      ],
      "execution_count": 25,
      "outputs": [
        {
          "output_type": "stream",
          "text": [
            "Enter a number:10\n",
            "The number you input is even\n",
            "Enter the first number: 10\n",
            "Enter the second number: 4\n",
            "The first number can not be divided by the second number\n"
          ],
          "name": "stdout"
        }
      ]
    }
  ]
}